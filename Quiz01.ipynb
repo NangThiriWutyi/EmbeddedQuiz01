{
  "nbformat": 4,
  "nbformat_minor": 0,
  "metadata": {
    "colab": {
      "provenance": []
    },
    "kernelspec": {
      "name": "python3",
      "display_name": "Python 3"
    },
    "language_info": {
      "name": "python"
    }
  },
  "cells": [
    {
      "cell_type": "code",
      "execution_count": 6,
      "metadata": {
        "colab": {
          "base_uri": "https://localhost:8080/"
        },
        "id": "tr0jpQRC0z4v",
        "outputId": "d591b066-e81e-4b9c-e1f2-1e90bc0dd5d9"
      },
      "outputs": [
        {
          "output_type": "stream",
          "name": "stdout",
          "text": [
            "246\n"
          ]
        }
      ],
      "source": [
        "from operator import add, neg\n",
        "\n",
        "F = lambda f: lambda x: f(abs(x), neg(x))\n",
        "g = F(add)\n",
        "print(g(-123))\n",
        "\n"
      ]
    }
  ]
}